{
 "cells": [
  {
   "cell_type": "markdown",
   "metadata": {},
   "source": [
    "Creating Python Functions\n",
    "1. Create functions with different numbers of parameters and return types.\n",
    "2. Explore function scope and variable accessibility.\n",
    "3. Implement functions with default argument values.\n",
    "4. Write recursive functions.\n",
    "5. Demonstrate how to use docstrings to document functions."
   ]
  },
  {
   "cell_type": "code",
   "execution_count": 44,
   "metadata": {},
   "outputs": [
    {
     "name": "stdout",
     "output_type": "stream",
     "text": [
      "648.0\n",
      "61\n",
      "173\n"
     ]
    }
   ],
   "source": [
    "'''1. Create functions with different numbers of parameters and return types.'''\n",
    "#Creating a multiply function that accepts 3 parameters as input\n",
    "def mutliply(a,b,c):\n",
    "    p=a*b*c\n",
    "    return float(p)\n",
    "\n",
    "#Creating a sum function that accepts a variable number of inputs\n",
    "def sum(*args):\n",
    "    s=0\n",
    "    for number in args:\n",
    "        s+=number\n",
    "    return s\n",
    "\n",
    "a=4\n",
    "b=54\n",
    "c=3\n",
    "d=5\n",
    "e=54\n",
    "f=53\n",
    "\n",
    "print(mutliply(a,b,c))\n",
    "print(sum(a,b,c))\n",
    "print(sum(a,b,c,d,e,f))"
   ]
  },
  {
   "cell_type": "code",
   "execution_count": 6,
   "metadata": {},
   "outputs": [
    {
     "name": "stdout",
     "output_type": "stream",
     "text": [
      "10\n",
      "15\n",
      "None\n",
      "15\n",
      "localvar not accessible as it is a local variable to testFunction\n"
     ]
    }
   ],
   "source": [
    "'''2. Explore function scope and variable accessibility.'''\n",
    "def testFunction():\n",
    "    localvar = 5    #Defining local variable\n",
    "    global var      #Declaring global variable\n",
    "    var = 10\n",
    "    print(localvar+5)\n",
    "    print(var + 5)\n",
    "\n",
    "try:\n",
    "    print(testFunction())\n",
    "    print(var+5)\n",
    "    print(localvar+5)       #Will throw an exception since it is a local variable\n",
    "except:\n",
    "    print('localvar not accessible as it is a local variable to testFunction')"
   ]
  },
  {
   "cell_type": "code",
   "execution_count": 32,
   "metadata": {},
   "outputs": [
    {
     "name": "stdout",
     "output_type": "stream",
     "text": [
      "38\n"
     ]
    }
   ],
   "source": [
    "'''3. Implement functions with default argument values.'''\n",
    "def function(*args, a = 20):\n",
    "    s =0\n",
    "    for i in args:\n",
    "        s += i\n",
    "    s += a\n",
    "    return s\n",
    "\n",
    "a=3\n",
    "b=5\n",
    "c=10\n",
    "print(function(a,b,c))\n"
   ]
  },
  {
   "cell_type": "code",
   "execution_count": null,
   "metadata": {},
   "outputs": [
    {
     "name": "stdout",
     "output_type": "stream",
     "text": [
      "18\n"
     ]
    }
   ],
   "source": [
    "'''3. Implement functions with default argument values.'''\n",
    "def function(b,c, a = 20):\n",
    "    s =0\n",
    "    s += a+b+c\n",
    "    return s\n",
    "\n",
    "a=3\n",
    "b=5\n",
    "c=10\n",
    "print(function(a,b,c)) #Giving 3 values overrides the constant parameter in the function"
   ]
  },
  {
   "cell_type": "code",
   "execution_count": null,
   "metadata": {},
   "outputs": [
    {
     "name": "stdout",
     "output_type": "stream",
     "text": [
      "72\n"
     ]
    }
   ],
   "source": [
    "'''4. Write recursive functions.'''\n",
    "def apNterm(a,d,n):\n",
    "    if n == 1:\n",
    "        return a\n",
    "    else:\n",
    "        return(d+apNterm(a,d,n-1)) #Recursively calls the apNterm function with lower N value\n",
    "    \n",
    "print(apNterm(2,7,11))"
   ]
  },
  {
   "cell_type": "code",
   "execution_count": null,
   "metadata": {},
   "outputs": [],
   "source": [
    "'''4. Write docstrings'''\n",
    "def apNterm(a,d,n):\n",
    "    \"\"\"\n",
    "    This fucntion takes 3 arguments and returns the Nth term of the AP\n",
    "    Args:\n",
    "    a (int) : Initial term\n",
    "    d (int) : Common Difference\n",
    "    n (int) : Nth term\n",
    "\n",
    "    Returns:\n",
    "    int : The Nth term of the given AP \n",
    "    \n",
    "    \"\"\"\n",
    "    if n == 1:\n",
    "        return a\n",
    "    else:\n",
    "        return(d+apNterm(a,d,n-1)) #Recursively calls the apNterm function with lower N value\n",
    "    \n",
    "print(apNterm(2,7,11))"
   ]
  },
  {
   "cell_type": "markdown",
   "metadata": {},
   "source": [
    "Lambda Functions\n",
    "1. Create simple lambda functions for various operations.\n",
    "2. Use lambda functions with built-in functions like map, filter, and reduce.\n",
    "3. Compare lambda functions with regular functions in terms of syntax and use cases.\n"
   ]
  },
  {
   "cell_type": "code",
   "execution_count": 61,
   "metadata": {},
   "outputs": [
    {
     "name": "stdout",
     "output_type": "stream",
     "text": [
      "6\n",
      "834900.0\n"
     ]
    }
   ],
   "source": [
    "'''Creating a simple Lambda functions'''\n",
    "\n",
    "sum = lambda a, b, c : a+b+c   #function to calculate sum\n",
    "print(sum(1,2,3))\n",
    "\n",
    "interest = lambda p,r,t : (p*r*t)/100   #function to calculate simple interest\n",
    "print(interest(1150000,12.1,6))"
   ]
  },
  {
   "cell_type": "code",
   "execution_count": null,
   "metadata": {},
   "outputs": [
    {
     "name": "stdout",
     "output_type": "stream",
     "text": [
      "[1, 8, 27, 64, 125, 216]\n",
      "834900.0\n",
      "[2, 4, 6]\n",
      "[1, 2, 3, 4, 5, 6] [False, True, False, True, False, True]\n",
      "[1, 2, 3, 4, 5, 6] [False, True, False, True, False, True]\n"
     ]
    }
   ],
   "source": [
    "'''Lambda functions with builtin functions Map, Filter, Reduce'''\n",
    "\n",
    "'''interest = lambda p,r,t : (p*r*t)/100   #Not able to figure out multiple arguments\n",
    "values = [1150000,12.1,6]\n",
    "result = map(interest,values)\n",
    "print(list(result))'''\n",
    "\n",
    "cube = lambda n: n**3\n",
    "numbers = [1,2,3,4,5,6]\n",
    "print(list(map(cube,numbers)))\n",
    "\n",
    "\n",
    "import functools\n",
    "values = [1150000,12.1,6]\n",
    "interest = (functools.reduce(lambda x, y: x * y, values))/100\n",
    "print(interest)\n",
    "\n",
    "even_numbers = filter(lambda n: n%2==0, numbers)     # Use filter to filter out even numbers\n",
    "print(list(even_numbers))  \n",
    "\n",
    "'''Regular function vs lambda function to check isEven or not for Numbers'''\n",
    "\n",
    "def isEven(n):\n",
    "    return n%2 == 0\n",
    "isEvenResult = list(map(isEven,numbers))\n",
    "print(numbers,isEvenResult)\n",
    "\n",
    "isEvenlambda = lambda n: n%2==0\n",
    "isEvenResultlambda = list(map(isEvenlambda,numbers))\n",
    "print(numbers,isEvenResultlambda)\n"
   ]
  },
  {
   "cell_type": "markdown",
   "metadata": {},
   "source": [
    "If Statements\n",
    "1. Demonstrate conditional logic using if, else, and elif statements.\n",
    "2. Create complex conditional expressions.\n",
    "3. Implement nested if statements.\n"
   ]
  },
  {
   "cell_type": "code",
   "execution_count": 115,
   "metadata": {},
   "outputs": [
    {
     "name": "stdout",
     "output_type": "stream",
     "text": [
      "43355464523 is not divisible by either 2 or 3\n",
      "Eligible for premium loan\n",
      "Eligible for a student loan\n"
     ]
    }
   ],
   "source": [
    "'''1. Demonstrate conditional logic using if, else, and elif statements.'''\n",
    "a=43355464523\n",
    "if(a%2==0):\n",
    "    print('{} is divisible by 2'.format(a))\n",
    "elif(a%3 == 0):\n",
    "    print('{} is divisble by 3'.format(a))\n",
    "else:\n",
    "    print('{} is not divisible by either 2 or 3'.format(a))\n",
    "\n",
    "\n",
    "'''2. Create complex conditional statements'''\n",
    "age = 19\n",
    "income = 45000\n",
    "credit_score = 700\n",
    "\n",
    "if age > 18 and income > 30000 and credit_score > 650:\n",
    "    print(\"Eligible for premium loan\")\n",
    "elif (age > 18) & (income > 30000 | credit_score > 650):\n",
    "    print(\"Eligible for standard loan\")\n",
    "else:\n",
    "    print(\"Not eligible for any loan\")\n",
    "\n",
    "'''3. Implement nested if statements.'''\n",
    "age = 19\n",
    "student_status = True\n",
    "income = 20000\n",
    "\n",
    "if age >= 18:\n",
    "    if student_status:\n",
    "        if income < 25000:\n",
    "            print(\"Eligible for a student loan\")\n",
    "        else:\n",
    "            print(\"Income too high for a student loan\")\n",
    "    elif income > 30000:\n",
    "        print(\"Eligible for a general loan\")\n",
    "    else:\n",
    "        print(\"Not eligible for any loan due to low income\")\n",
    "else:\n",
    "    print(\"Not eligible due to age restriction\")\n"
   ]
  },
  {
   "cell_type": "markdown",
   "metadata": {},
   "source": [
    "Loops\n",
    "1. Use for loops to iterate over sequences.\n",
    "2. Employ while loops for indefinite iteration.\n",
    "3. Implement nested loops.\n",
    "4. Utilize break and continue statements."
   ]
  },
  {
   "cell_type": "code",
   "execution_count": 135,
   "metadata": {},
   "outputs": [
    {
     "name": "stdout",
     "output_type": "stream",
     "text": [
      "2\n",
      "2300.0\n",
      "324\n",
      "45\n",
      "6\n",
      "325\n",
      "4456\n",
      "54\n",
      "324\n",
      "3sedf\n",
      "342\n",
      "34523\n",
      "34\n",
      "gfher\n",
      "0\n",
      "0\n",
      "0\n",
      "0\n",
      "1\n",
      "1\n",
      "1\n",
      "1\n",
      "2\n",
      "2\n",
      "2\n",
      "2\n",
      "3\n",
      "3\n",
      "3\n",
      "3\n"
     ]
    }
   ],
   "source": [
    "'''1. Use for loops to iterate over sequences.'''\n",
    "sequence = [2,23e2,324,45,6,325,4456,54,324,'3sedf',342,'34523',34,'gfher']\n",
    "for i in sequence:\n",
    "    print(i)\n",
    "\n",
    "'''2. Employ while loops for indefinite iteration.'''\n",
    "while True:\n",
    "    a=input('Enter a character')\n",
    "    if(a=='t'):                   #indefinite while loop, terminated when 't' is entered\n",
    "        break\n",
    "    else:\n",
    "        pass\n",
    "\n",
    "'''3. Implement nested loops.'''\n",
    "for i in range(4):\n",
    "    for j in range(4):\n",
    "        print(i)\n",
    "\n",
    "'''4. Utilize break and continue statements.'''\n",
    "while True:\n",
    "    a=input('Enter a character')\n",
    "    if(a=='t'):                   #indefinite while loop, terminated when 't' is entered\n",
    "        break\n",
    "    else:\n",
    "        continue"
   ]
  },
  {
   "cell_type": "markdown",
   "metadata": {},
   "source": [
    "Lists, Tuples, Sets, Dictionaries\n",
    "1. Create and manipulate lists, tuples, sets, and dictionaries.\n",
    "2. Understand the differences between these data structures.\n",
    "3. Perform operations like indexing, slicing, adding, removing elements.\n",
    "4. Explore built-in methods for each data structure.\n"
   ]
  },
  {
   "cell_type": "code",
   "execution_count": null,
   "metadata": {},
   "outputs": [
    {
     "name": "stdout",
     "output_type": "stream",
     "text": [
      "['apple', 'orange', 'banana', 'pineapple']\n",
      "['orange', 'kiwi', 'grape', 'mango', 'chickoo']\n",
      "[['orange', 'kiwi', 'grape', 'mango', 'chickoo']]\n",
      "orange\n",
      "['apple', 'orange', 'banana', 'pineapple', 'orange', 'kiwi', 'grape', 'mango', 'chickoo']\n",
      "['apple', 'banana', 'chickoo', 'grape', 'kiwi', 'mango', 'orange', 'orange', 'pineapple']\n",
      "['apple', 'banana', 'jackfruit', 'chickoo', 'grape', 'kiwi', 'mango', 'orange', 'orange', 'pineapple']\n",
      "jackfruit\n",
      "['apple', 'banana', 'chickoo', 'grape', 'kiwi', 'mango', 'orange', 'orange', 'pineapple']\n",
      "('Windsor', 'Toronto', 'Montreal', 'Chicago', 'Detroit')\n",
      "('Toronto', 'Montreal')\n",
      "('Toronto', 'Montreal')\n",
      "0\n",
      "{True, 433.3, 213, 'sfs', 'ynt'}\n",
      "{True, 433.3, 213, 'sfs', 'ynt', 'tejus'}\n",
      "{True, 433.3, 213, 'sfs', 'ynt', 'tejus'}\n",
      "{True, 433.3, 213, 'sfs', 'ynt', 'tejus'}\n",
      "set()\n",
      "True\n",
      "{433.3, 213, 'sfs', 'ynt', 'tejus'}\n",
      "{False, True, 'ynt', 654, 213, 'sfs', 6557, 'cnchj', 'tejus', 433.3, 'trhjk'}\n",
      "{False, True, 'cnchj', 654, 'trhjk', 6557}\n",
      "{False, True, 'cnchj', 654, 'trhjk', 6557}\n",
      "set()\n"
     ]
    },
    {
     "data": {
      "text/plain": [
       "\"cars = { 'brand' : 'Ford',\\n         'Model' : 'Mustang',\\n         'Color' : 'Black' }\\nprint(cars)\\nprint(cars.values())\\nprint(cars.keys())\\ncars['year'] = 1969\\nprint(cars)\\nprint(cars.values())\\nprint(cars.keys())\\ncars.popitem()\\ncars.pop('Color')\\nprint(cars)\""
      ]
     },
     "execution_count": 95,
     "metadata": {},
     "output_type": "execute_result"
    }
   ],
   "source": [
    "fruits = list(('apple', 'orange', 'banana', 'pineapple'))\n",
    "items = ['orange', 'kiwi', 'grape', 'mango', 'chickoo']\n",
    "print(fruits)\n",
    "print(items)\n",
    "new_fruits = []\n",
    "new_fruits.append(items)   #Appends entire list into the existing empty list\n",
    "print(new_fruits)\n",
    "print(new_fruits[0][0])     #Indexing the element in the list\n",
    "for i in items:\n",
    "    fruits.append(i)       #Appends items list to the end of fruits list\n",
    "print(fruits)\n",
    "sorted_fruits = fruits.sort()  #Sorts the fruits list\n",
    "print(fruits)\n",
    "fruits.insert(2,'jackfruit')  #Inserts new element\n",
    "print(fruits)\n",
    "selected_fruit = fruits.pop(2) #Removes element from the list\n",
    "print(selected_fruit)\n",
    "print(fruits)\n",
    "\n",
    "citiesA = tuple(['Windsor', 'Toronto', 'Montreal', 'Chicago', 'Detroit'])\n",
    "citiesB = ('Detroit', 'London', 'Ottawa', 'Hamilton')\n",
    "print(citiesA[:])\n",
    "print(citiesA[1:3])                 #Indexing and slicing operation\n",
    "print(citiesA[-4:-2])\n",
    "print(citiesB.index('Detroit'))\n",
    "\n",
    "set1 = {213,433.3,'sfs',\"ynt\",True}\n",
    "print(set1)\n",
    "set1.add('tejus')\n",
    "print(set1)\n",
    "set2 = set1.copy()   #Create a set copy\n",
    "print(set2)\n",
    "print(set1.difference(fruits))   #gets difference btw set and an iterable\n",
    "print(set1.difference(set2))\n",
    "print(set1.pop())           #removes a random element\n",
    "print(set1)\n",
    "for i in 'cnchj', False, 'trhjk', 654, 6557:\n",
    "    set2.add(i)\n",
    "print(set2)\n",
    "print(set1.intersection(set2))      #Gets the common element in 2 sets\n",
    "print(set1.difference(set2))        #Gets elements present in set1 but not set2\n",
    "print(set2.difference(set1))      \n",
    "print(set1.symmetric_difference(set2))      #Gets the difference in elements between set1 and union of set1 and set2\n",
    "print((set1.union(set2)).difference(set1))\n",
    "set1.clear()\n",
    "print(set1)\n",
    "\n",
    "cars = { 'brand' : 'Ford',\n",
    "         'Model' : 'Mustang',\n",
    "         'Color' : 'Black' }\n",
    "print(cars)\n",
    "print(cars.values())\n",
    "print(cars.keys())\n",
    "cars['year'] = 1969\n",
    "print(cars)\n",
    "print(cars.values())\n",
    "print(cars.keys())\n",
    "cars.popitem()\n",
    "cars.pop('Color')\n",
    "print(cars)"
   ]
  }
 ],
 "metadata": {
  "kernelspec": {
   "display_name": "Python 3",
   "language": "python",
   "name": "python3"
  },
  "language_info": {
   "codemirror_mode": {
    "name": "ipython",
    "version": 3
   },
   "file_extension": ".py",
   "mimetype": "text/x-python",
   "name": "python",
   "nbconvert_exporter": "python",
   "pygments_lexer": "ipython3",
   "version": "3.11.9"
  }
 },
 "nbformat": 4,
 "nbformat_minor": 2
}

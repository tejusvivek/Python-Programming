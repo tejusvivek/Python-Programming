{
 "cells": [
  {
   "cell_type": "markdown",
   "metadata": {},
   "source": [
    "Creating Python Functions\n",
    "1. Create functions with different numbers of parameters and return types.\n",
    "2. Explore function scope and variable accessibility.\n",
    "3. Implement functions with default argument values.\n",
    "4. Write recursive functions.\n",
    "5. Demonstrate how to use docstrings to document functions."
   ]
  },
  {
   "cell_type": "code",
   "execution_count": 44,
   "metadata": {},
   "outputs": [
    {
     "name": "stdout",
     "output_type": "stream",
     "text": [
      "648.0\n",
      "61\n",
      "173\n"
     ]
    }
   ],
   "source": [
    "'''1. Create functions with different numbers of parameters and return types.'''\n",
    "#Creating a multiply function that accepts 3 parameters as input\n",
    "def mutliply(a,b,c):\n",
    "    p=a*b*c\n",
    "    return float(p)\n",
    "\n",
    "#Creating a sum function that accepts a variable number of inputs\n",
    "def sum(*args):\n",
    "    s=0\n",
    "    for number in args:\n",
    "        s+=number\n",
    "    return s\n",
    "\n",
    "a=4\n",
    "b=54\n",
    "c=3\n",
    "d=5\n",
    "e=54\n",
    "f=53\n",
    "\n",
    "print(mutliply(a,b,c))\n",
    "print(sum(a,b,c))\n",
    "print(sum(a,b,c,d,e,f))"
   ]
  },
  {
   "cell_type": "code",
   "execution_count": 6,
   "metadata": {},
   "outputs": [
    {
     "name": "stdout",
     "output_type": "stream",
     "text": [
      "10\n",
      "15\n",
      "None\n",
      "15\n",
      "localvar not accessible as it is a local variable to testFunction\n"
     ]
    }
   ],
   "source": [
    "'''2. Explore function scope and variable accessibility.'''\n",
    "def testFunction():\n",
    "    localvar = 5    #Defining local variable\n",
    "    global var      #Declaring global variable\n",
    "    var = 10\n",
    "    print(localvar+5)\n",
    "    print(var + 5)\n",
    "\n",
    "try:\n",
    "    print(testFunction())\n",
    "    print(var+5)\n",
    "    print(localvar+5)       #Will throw an exception since it is a local variable\n",
    "except:\n",
    "    print('localvar not accessible as it is a local variable to testFunction')"
   ]
  },
  {
   "cell_type": "code",
   "execution_count": 32,
   "metadata": {},
   "outputs": [
    {
     "name": "stdout",
     "output_type": "stream",
     "text": [
      "38\n"
     ]
    }
   ],
   "source": [
    "'''3. Implement functions with default argument values.'''\n",
    "def function(*args, a = 20):\n",
    "    s =0\n",
    "    for i in args:\n",
    "        s += i\n",
    "    s += a\n",
    "    return s\n",
    "\n",
    "a=3\n",
    "b=5\n",
    "c=10\n",
    "print(function(a,b,c))\n"
   ]
  },
  {
   "cell_type": "code",
   "execution_count": null,
   "metadata": {},
   "outputs": [
    {
     "name": "stdout",
     "output_type": "stream",
     "text": [
      "18\n"
     ]
    }
   ],
   "source": [
    "'''3. Implement functions with default argument values.'''\n",
    "def function(b,c, a = 20):\n",
    "    s =0\n",
    "    s += a+b+c\n",
    "    return s\n",
    "\n",
    "a=3\n",
    "b=5\n",
    "c=10\n",
    "print(function(a,b,c)) #Giving 3 values overrides the constant parameter in the function"
   ]
  },
  {
   "cell_type": "code",
   "execution_count": null,
   "metadata": {},
   "outputs": [
    {
     "name": "stdout",
     "output_type": "stream",
     "text": [
      "72\n"
     ]
    }
   ],
   "source": [
    "'''4. Write recursive functions.'''\n",
    "def apNterm(a,d,n):\n",
    "    if n == 1:\n",
    "        return a\n",
    "    else:\n",
    "        return(d+apNterm(a,d,n-1)) #Recursively calls the apNterm function with lower N value\n",
    "    \n",
    "print(apNterm(2,7,11))"
   ]
  },
  {
   "cell_type": "code",
   "execution_count": null,
   "metadata": {},
   "outputs": [],
   "source": [
    "'''4. Write docstrings'''\n",
    "def apNterm(a,d,n):\n",
    "    \"\"\"\n",
    "    This fucntion takes 3 arguments and returns the Nth term of the AP\n",
    "    Args:\n",
    "    a (int) : Initial term\n",
    "    d (int) : Common Difference\n",
    "    n (int) : Nth term\n",
    "\n",
    "    Returns:\n",
    "    int : The Nth term of the given AP \n",
    "    \n",
    "    \"\"\"\n",
    "    if n == 1:\n",
    "        return a\n",
    "    else:\n",
    "        return(d+apNterm(a,d,n-1)) #Recursively calls the apNterm function with lower N value\n",
    "    \n",
    "print(apNterm(2,7,11))"
   ]
  },
  {
   "cell_type": "markdown",
   "metadata": {},
   "source": [
    "Lambda Functions\n",
    "1. Create simple lambda functions for various operations.\n",
    "2. Use lambda functions with built-in functions like map, filter, and reduce.\n",
    "3. Compare lambda functions with regular functions in terms of syntax and use cases.\n"
   ]
  },
  {
   "cell_type": "code",
   "execution_count": 61,
   "metadata": {},
   "outputs": [
    {
     "name": "stdout",
     "output_type": "stream",
     "text": [
      "6\n",
      "834900.0\n"
     ]
    }
   ],
   "source": [
    "'''Creating a simple Lambda functions'''\n",
    "\n",
    "sum = lambda a, b, c : a+b+c   #function to calculate sum\n",
    "print(sum(1,2,3))\n",
    "\n",
    "interest = lambda p,r,t : (p*r*t)/100   #function to calculate simple interest\n",
    "print(interest(1150000,12.1,6))"
   ]
  },
  {
   "cell_type": "code",
   "execution_count": null,
   "metadata": {},
   "outputs": [
    {
     "name": "stdout",
     "output_type": "stream",
     "text": [
      "[1, 8, 27, 64, 125, 216]\n",
      "834900.0\n",
      "[2, 4, 6]\n",
      "[1, 2, 3, 4, 5, 6] [False, True, False, True, False, True]\n",
      "[1, 2, 3, 4, 5, 6] [False, True, False, True, False, True]\n"
     ]
    }
   ],
   "source": [
    "'''Lambda functions with builtin functions Map, Filter, Reduce'''\n",
    "\n",
    "'''interest = lambda p,r,t : (p*r*t)/100   #Not able to figure out multiple arguments\n",
    "values = [1150000,12.1,6]\n",
    "result = map(interest,values)\n",
    "print(list(result))'''\n",
    "\n",
    "cube = lambda n: n**3\n",
    "numbers = [1,2,3,4,5,6]\n",
    "print(list(map(cube,numbers)))\n",
    "\n",
    "\n",
    "import functools\n",
    "values = [1150000,12.1,6]\n",
    "interest = (functools.reduce(lambda x, y: x * y, values))/100\n",
    "print(interest)\n",
    "\n",
    "even_numbers = filter(lambda n: n%2==0, numbers)     # Use filter to filter out even numbers\n",
    "print(list(even_numbers))  \n",
    "\n",
    "'''Regular function vs lambda function to check isEven or not for Numbers'''\n",
    "\n",
    "def isEven(n):\n",
    "    return n%2 == 0\n",
    "isEvenResult = list(map(isEven,numbers))\n",
    "print(numbers,isEvenResult)\n",
    "\n",
    "isEvenlambda = lambda n: n%2==0\n",
    "isEvenResultlambda = list(map(isEvenlambda,numbers))\n",
    "print(numbers,isEvenResultlambda)\n"
   ]
  },
  {
   "cell_type": "markdown",
   "metadata": {},
   "source": [
    "If Statements\n",
    "1. Demonstrate conditional logic using if, else, and elif statements.\n",
    "2. Create complex conditional expressions.\n",
    "3. Implement nested if statements.\n"
   ]
  },
  {
   "cell_type": "code",
   "execution_count": 115,
   "metadata": {},
   "outputs": [
    {
     "name": "stdout",
     "output_type": "stream",
     "text": [
      "43355464523 is not divisible by either 2 or 3\n",
      "Eligible for premium loan\n",
      "Eligible for a student loan\n"
     ]
    }
   ],
   "source": [
    "'''1. Demonstrate conditional logic using if, else, and elif statements.'''\n",
    "a=43355464523\n",
    "if(a%2==0):\n",
    "    print('{} is divisible by 2'.format(a))\n",
    "elif(a%3 == 0):\n",
    "    print('{} is divisble by 3'.format(a))\n",
    "else:\n",
    "    print('{} is not divisible by either 2 or 3'.format(a))\n",
    "\n",
    "\n",
    "'''2. Create complex conditional statements'''\n",
    "age = 19\n",
    "income = 45000\n",
    "credit_score = 700\n",
    "\n",
    "if age > 18 and income > 30000 and credit_score > 650:\n",
    "    print(\"Eligible for premium loan\")\n",
    "elif (age > 18) & (income > 30000 | credit_score > 650):\n",
    "    print(\"Eligible for standard loan\")\n",
    "else:\n",
    "    print(\"Not eligible for any loan\")\n",
    "\n",
    "'''3. Implement nested if statements.'''\n",
    "age = 19\n",
    "student_status = True\n",
    "income = 20000\n",
    "\n",
    "if age >= 18:\n",
    "    if student_status:\n",
    "        if income < 25000:\n",
    "            print(\"Eligible for a student loan\")\n",
    "        else:\n",
    "            print(\"Income too high for a student loan\")\n",
    "    elif income > 30000:\n",
    "        print(\"Eligible for a general loan\")\n",
    "    else:\n",
    "        print(\"Not eligible for any loan due to low income\")\n",
    "else:\n",
    "    print(\"Not eligible due to age restriction\")\n"
   ]
  },
  {
   "cell_type": "markdown",
   "metadata": {},
   "source": [
    "Loops\n",
    "1. Use for loops to iterate over sequences.\n",
    "2. Employ while loops for indefinite iteration.\n",
    "3. Implement nested loops.\n",
    "4. Utilize break and continue statements."
   ]
  },
  {
   "cell_type": "code",
   "execution_count": 135,
   "metadata": {},
   "outputs": [
    {
     "name": "stdout",
     "output_type": "stream",
     "text": [
      "2\n",
      "2300.0\n",
      "324\n",
      "45\n",
      "6\n",
      "325\n",
      "4456\n",
      "54\n",
      "324\n",
      "3sedf\n",
      "342\n",
      "34523\n",
      "34\n",
      "gfher\n",
      "0\n",
      "0\n",
      "0\n",
      "0\n",
      "1\n",
      "1\n",
      "1\n",
      "1\n",
      "2\n",
      "2\n",
      "2\n",
      "2\n",
      "3\n",
      "3\n",
      "3\n",
      "3\n"
     ]
    }
   ],
   "source": [
    "'''1. Use for loops to iterate over sequences.'''\n",
    "sequence = [2,23e2,324,45,6,325,4456,54,324,'3sedf',342,'34523',34,'gfher']\n",
    "for i in sequence:\n",
    "    print(i)\n",
    "\n",
    "'''2. Employ while loops for indefinite iteration.'''\n",
    "while True:\n",
    "    a=input('Enter a character')\n",
    "    if(a=='t'):                   #indefinite while loop, terminated when 't' is entered\n",
    "        break\n",
    "    else:\n",
    "        pass\n",
    "\n",
    "'''3. Implement nested loops.'''\n",
    "for i in range(4):\n",
    "    for j in range(4):\n",
    "        print(i)\n",
    "\n",
    "'''4. Utilize break and continue statements.'''\n",
    "while True:\n",
    "    a=input('Enter a character')\n",
    "    if(a=='t'):                   #indefinite while loop, terminated when 't' is entered\n",
    "        break\n",
    "    else:\n",
    "        continue"
   ]
  },
  {
   "cell_type": "markdown",
   "metadata": {},
   "source": [
    "Lists, Tuples, Sets, Dictionaries\n",
    "1. Create and manipulate lists, tuples, sets, and dictionaries.\n",
    "2. Understand the differences between these data structures.\n",
    "3. Perform operations like indexing, slicing, adding, removing elements.\n",
    "4. Explore built-in methods for each data structure.\n"
   ]
  },
  {
   "cell_type": "code",
   "execution_count": 96,
   "metadata": {},
   "outputs": [
    {
     "name": "stdout",
     "output_type": "stream",
     "text": [
      "['apple', 'orange', 'banana', 'pineapple']\n",
      "['orange', 'kiwi', 'grape', 'mango', 'chickoo']\n",
      "[['orange', 'kiwi', 'grape', 'mango', 'chickoo']]\n",
      "orange\n",
      "['apple', 'orange', 'banana', 'pineapple', 'orange', 'kiwi', 'grape', 'mango', 'chickoo']\n",
      "['apple', 'banana', 'chickoo', 'grape', 'kiwi', 'mango', 'orange', 'orange', 'pineapple']\n",
      "['apple', 'banana', 'jackfruit', 'chickoo', 'grape', 'kiwi', 'mango', 'orange', 'orange', 'pineapple']\n",
      "jackfruit\n",
      "['apple', 'banana', 'chickoo', 'grape', 'kiwi', 'mango', 'orange', 'orange', 'pineapple']\n",
      "('Windsor', 'Toronto', 'Montreal', 'Chicago', 'Detroit')\n",
      "('Toronto', 'Montreal')\n",
      "('Toronto', 'Montreal')\n",
      "0\n",
      "{True, 433.3, 213, 'sfs', 'ynt'}\n",
      "{True, 433.3, 213, 'sfs', 'ynt', 'tejus'}\n",
      "{True, 433.3, 213, 'sfs', 'ynt', 'tejus'}\n",
      "{True, 433.3, 213, 'sfs', 'ynt', 'tejus'}\n",
      "set()\n",
      "True\n",
      "{433.3, 213, 'sfs', 'ynt', 'tejus'}\n",
      "{False, True, 'ynt', 654, 213, 'sfs', 6557, 'cnchj', 'tejus', 433.3, 'trhjk'}\n",
      "{'ynt', 'tejus', 433.3, 213, 'sfs'}\n",
      "set()\n",
      "{False, True, 'cnchj', 654, 'trhjk', 6557}\n",
      "{False, True, 'cnchj', 654, 'trhjk', 6557}\n",
      "{False, True, 'cnchj', 654, 'trhjk', 6557}\n",
      "set()\n",
      "{'brand': 'Ford', 'Model': 'Mustang', 'Color': 'Black'}\n",
      "dict_values(['Ford', 'Mustang', 'Black'])\n",
      "dict_keys(['brand', 'Model', 'Color'])\n",
      "{'brand': 'Ford', 'Model': 'Mustang', 'Color': 'Black', 'year': 1969}\n",
      "dict_values(['Ford', 'Mustang', 'Black', 1969])\n",
      "dict_keys(['brand', 'Model', 'Color', 'year'])\n",
      "{'brand': 'Ford', 'Model': 'Mustang'}\n"
     ]
    }
   ],
   "source": [
    "fruits = list(('apple', 'orange', 'banana', 'pineapple'))\n",
    "items = ['orange', 'kiwi', 'grape', 'mango', 'chickoo']\n",
    "print(fruits)\n",
    "print(items)\n",
    "new_fruits = []\n",
    "new_fruits.append(items)   #Appends entire list into the existing empty list\n",
    "print(new_fruits)\n",
    "print(new_fruits[0][0])     #Indexing the element in the list\n",
    "for i in items:\n",
    "    fruits.append(i)       #Appends items list to the end of fruits list\n",
    "print(fruits)\n",
    "sorted_fruits = fruits.sort()  #Sorts the fruits list\n",
    "print(fruits)\n",
    "fruits.insert(2,'jackfruit')  #Inserts new element\n",
    "print(fruits)\n",
    "selected_fruit = fruits.pop(2) #Removes element from the list\n",
    "print(selected_fruit)\n",
    "print(fruits)\n",
    "\n",
    "citiesA = tuple(['Windsor', 'Toronto', 'Montreal', 'Chicago', 'Detroit'])\n",
    "citiesB = ('Detroit', 'London', 'Ottawa', 'Hamilton')\n",
    "print(citiesA[:])\n",
    "print(citiesA[1:3])                 #Indexing and slicing operation\n",
    "print(citiesA[-4:-2])\n",
    "print(citiesB.index('Detroit'))\n",
    "\n",
    "set1 = {213,433.3,'sfs',\"ynt\",True}\n",
    "print(set1)\n",
    "set1.add('tejus')\n",
    "print(set1)\n",
    "set2 = set1.copy()   #Create a set copy\n",
    "print(set2)\n",
    "print(set1.difference(fruits))   #gets difference btw set and an iterable\n",
    "print(set1.difference(set2))\n",
    "print(set1.pop())           #removes a random element\n",
    "print(set1)\n",
    "for i in 'cnchj', False, 'trhjk', 654, 6557:\n",
    "    set2.add(i)\n",
    "print(set2)\n",
    "print(set1.intersection(set2))      #Gets the common element in 2 sets\n",
    "print(set1.difference(set2))        #Gets elements present in set1 but not set2\n",
    "print(set2.difference(set1))      \n",
    "print(set1.symmetric_difference(set2))      #Gets the difference in elements between set1 and union of set1 and set2\n",
    "print((set1.union(set2)).difference(set1))\n",
    "set1.clear()\n",
    "print(set1)\n",
    "\n",
    "cars = { 'brand' : 'Ford',\n",
    "         'Model' : 'Mustang',\n",
    "         'Color' : 'Black' }\n",
    "print(cars)\n",
    "print(cars.values())\n",
    "print(cars.keys())\n",
    "cars['year'] = 1969\n",
    "print(cars)\n",
    "print(cars.values())\n",
    "print(cars.keys())\n",
    "cars.popitem()\n",
    "cars.pop('Color')\n",
    "print(cars)"
   ]
  },
  {
   "cell_type": "markdown",
   "metadata": {},
   "source": [
    "Operators\n",
    "1. Use arithmetic, comparison, logical, and assignment operators.\n",
    "2. Understand operator precedence.\n",
    "3. Apply operators in expressions and calculations."
   ]
  },
  {
   "cell_type": "code",
   "execution_count": 9,
   "metadata": {},
   "outputs": [
    {
     "name": "stdout",
     "output_type": "stream",
     "text": [
      "sum : 42246.43\n",
      "difference : 22577.57\n",
      "product : 318753545.16\n",
      "quotient : 3.295768031294137\n",
      "remainder : 2908.709999999999\n",
      "\n",
      "\n",
      "a=b : False\n",
      "a!=b : True\n",
      "a<b : False\n",
      "a>b : True\n",
      "a>=b : True\n",
      "a<=b : False\n",
      "\n",
      "\n",
      "c and d : False\n",
      "c or d : True\n",
      "not c : False\n",
      "not d : True\n",
      "\n",
      "\n",
      "47667.63\n",
      "17857671.933925107\n",
      "32412 is the largest\n"
     ]
    }
   ],
   "source": [
    "'''1. Usinf arithmetic, comparison, logical and assignment operators'''\n",
    "a = 32412\n",
    "b = 9834.43\n",
    "c = True\n",
    "d = False\n",
    "e = 5444.2\n",
    "f = 23\n",
    "\n",
    "arithmetic = {'sum' : a+b,\n",
    "              'difference' : a-b,\n",
    "              'product' : a*b,\n",
    "              'quotient' : a/b,\n",
    "              'remainder' : a%b,\n",
    "              }\n",
    "for i in arithmetic.keys():\n",
    "    print('{} : {}'.format(i,arithmetic[i]))\n",
    "print('\\n')\n",
    "\n",
    "comparison = { 'a=b' : a==b,\n",
    "               'a!=b' : a!=b,\n",
    "               'a<b' : a<b,\n",
    "               'a>b' : a>b,\n",
    "               'a>=b' : a>=b,\n",
    "               'a<=b' : a<=b,\n",
    "               }\n",
    "for i in comparison.keys():\n",
    "    print('{} : {}'.format(i,comparison[i]))\n",
    "print('\\n')\n",
    "\n",
    "logical = { 'c and d' : c and d,\n",
    "               'c or d' : c or d,\n",
    "               'not c' : not c,\n",
    "               'not d' : not d\n",
    "               }\n",
    "for i in logical.keys():\n",
    "    print('{} : {}'.format(i,logical[i]))\n",
    "print('\\n')\n",
    "\n",
    "print((a+b+e-f))                #Operator Precedence examples\n",
    "print(((a+b*e)-f/e)/3)\n",
    "\n",
    "if(a>b):\n",
    "    if(a>e):\n",
    "        if(a>f):\n",
    "            print('{} is the largest'.format(a))\n",
    "        else:\n",
    "            print('{} is the largest'.format(f))\n",
    "    elif(e>f):\n",
    "        print('{} is the largest'.format(e))\n",
    "    else:\n",
    "        print('{} is the largest'.format(f))\n",
    "elif(b>e):\n",
    "    if(b>f):\n",
    "        print('{} is the largest'.format(b))\n",
    "    else:\n",
    "        print('{} is the largest'.format(f))\n",
    "elif(e>f):\n",
    "    print('{} is the largest'.format(e))\n",
    "else:\n",
    "    print('{} is the largest'.format(f))"
   ]
  },
  {
   "cell_type": "markdown",
   "metadata": {},
   "source": [
    "Reading CSV files\n",
    "1. Read CSV files into Pandas DataFrames.\n",
    "2. Explore different CSV reading options and parameters.\n",
    "3. Handle missing values and data cleaning."
   ]
  },
  {
   "cell_type": "code",
   "execution_count": 60,
   "metadata": {},
   "outputs": [
    {
     "name": "stdout",
     "output_type": "stream",
     "text": [
      "Index(['Unnamed: 0', 'Content ID', 'User ID', 'Type', 'Datetime'], dtype='object')\n"
     ]
    },
    {
     "data": {
      "text/html": [
       "<div>\n",
       "<style scoped>\n",
       "    .dataframe tbody tr th:only-of-type {\n",
       "        vertical-align: middle;\n",
       "    }\n",
       "\n",
       "    .dataframe tbody tr th {\n",
       "        vertical-align: top;\n",
       "    }\n",
       "\n",
       "    .dataframe thead th {\n",
       "        text-align: right;\n",
       "    }\n",
       "</style>\n",
       "<table border=\"1\" class=\"dataframe\">\n",
       "  <thead>\n",
       "    <tr style=\"text-align: right;\">\n",
       "      <th></th>\n",
       "      <th>ID</th>\n",
       "      <th>Content ID</th>\n",
       "      <th>User ID</th>\n",
       "      <th>Type</th>\n",
       "      <th>Datetime</th>\n",
       "    </tr>\n",
       "  </thead>\n",
       "  <tbody>\n",
       "    <tr>\n",
       "      <th>1</th>\n",
       "      <td>1</td>\n",
       "      <td>97522e57-d9ab-4bd6-97bf-c24d952602d2</td>\n",
       "      <td>5d454588-283d-459d-915d-c48a2cb4c27f</td>\n",
       "      <td>disgust</td>\n",
       "      <td>2020-11-07 09:43:50</td>\n",
       "    </tr>\n",
       "    <tr>\n",
       "      <th>2</th>\n",
       "      <td>2</td>\n",
       "      <td>97522e57-d9ab-4bd6-97bf-c24d952602d2</td>\n",
       "      <td>92b87fa5-f271-43e0-af66-84fac21052e6</td>\n",
       "      <td>dislike</td>\n",
       "      <td>2021-06-17 12:22:51</td>\n",
       "    </tr>\n",
       "    <tr>\n",
       "      <th>3</th>\n",
       "      <td>3</td>\n",
       "      <td>97522e57-d9ab-4bd6-97bf-c24d952602d2</td>\n",
       "      <td>163daa38-8b77-48c9-9af6-37a6c1447ac2</td>\n",
       "      <td>scared</td>\n",
       "      <td>2021-04-18 05:13:58</td>\n",
       "    </tr>\n",
       "    <tr>\n",
       "      <th>4</th>\n",
       "      <td>4</td>\n",
       "      <td>97522e57-d9ab-4bd6-97bf-c24d952602d2</td>\n",
       "      <td>34e8add9-0206-47fd-a501-037b994650a2</td>\n",
       "      <td>disgust</td>\n",
       "      <td>2021-01-06 19:13:01</td>\n",
       "    </tr>\n",
       "    <tr>\n",
       "      <th>5</th>\n",
       "      <td>5</td>\n",
       "      <td>97522e57-d9ab-4bd6-97bf-c24d952602d2</td>\n",
       "      <td>9b6d35f9-5e15-4cd0-a8d7-b1f3340e02c4</td>\n",
       "      <td>interested</td>\n",
       "      <td>2020-08-23 12:25:58</td>\n",
       "    </tr>\n",
       "    <tr>\n",
       "      <th>6</th>\n",
       "      <td>6</td>\n",
       "      <td>97522e57-d9ab-4bd6-97bf-c24d952602d2</td>\n",
       "      <td>7918d465-0953-4f20-9e28-539e74c82e2f</td>\n",
       "      <td>peeking</td>\n",
       "      <td>2020-12-07 06:27:54</td>\n",
       "    </tr>\n",
       "    <tr>\n",
       "      <th>7</th>\n",
       "      <td>7</td>\n",
       "      <td>97522e57-d9ab-4bd6-97bf-c24d952602d2</td>\n",
       "      <td>fa3e42f0-71d8-455f-b024-e52d5c27a145</td>\n",
       "      <td>cherish</td>\n",
       "      <td>2021-04-11 17:35:49</td>\n",
       "    </tr>\n",
       "    <tr>\n",
       "      <th>8</th>\n",
       "      <td>8</td>\n",
       "      <td>97522e57-d9ab-4bd6-97bf-c24d952602d2</td>\n",
       "      <td>b0c22f82-b882-4394-bf27-6dfadf26e5c2</td>\n",
       "      <td>hate</td>\n",
       "      <td>2021-01-27 08:32:09</td>\n",
       "    </tr>\n",
       "    <tr>\n",
       "      <th>9</th>\n",
       "      <td>9</td>\n",
       "      <td>97522e57-d9ab-4bd6-97bf-c24d952602d2</td>\n",
       "      <td>1932a904-86ba-4438-bb52-b7e6516a4019</td>\n",
       "      <td>peeking</td>\n",
       "      <td>2021-04-01 22:54:23</td>\n",
       "    </tr>\n",
       "    <tr>\n",
       "      <th>11</th>\n",
       "      <td>11</td>\n",
       "      <td>97522e57-d9ab-4bd6-97bf-c24d952602d2</td>\n",
       "      <td>f50ac030-3af8-4e07-aacf-dccff353b8f6</td>\n",
       "      <td>indifferent</td>\n",
       "      <td>2020-11-07 08:36:27</td>\n",
       "    </tr>\n",
       "  </tbody>\n",
       "</table>\n",
       "</div>"
      ],
      "text/plain": [
       "    ID                            Content ID  \\\n",
       "1    1  97522e57-d9ab-4bd6-97bf-c24d952602d2   \n",
       "2    2  97522e57-d9ab-4bd6-97bf-c24d952602d2   \n",
       "3    3  97522e57-d9ab-4bd6-97bf-c24d952602d2   \n",
       "4    4  97522e57-d9ab-4bd6-97bf-c24d952602d2   \n",
       "5    5  97522e57-d9ab-4bd6-97bf-c24d952602d2   \n",
       "6    6  97522e57-d9ab-4bd6-97bf-c24d952602d2   \n",
       "7    7  97522e57-d9ab-4bd6-97bf-c24d952602d2   \n",
       "8    8  97522e57-d9ab-4bd6-97bf-c24d952602d2   \n",
       "9    9  97522e57-d9ab-4bd6-97bf-c24d952602d2   \n",
       "11  11  97522e57-d9ab-4bd6-97bf-c24d952602d2   \n",
       "\n",
       "                                 User ID         Type             Datetime  \n",
       "1   5d454588-283d-459d-915d-c48a2cb4c27f      disgust  2020-11-07 09:43:50  \n",
       "2   92b87fa5-f271-43e0-af66-84fac21052e6      dislike  2021-06-17 12:22:51  \n",
       "3   163daa38-8b77-48c9-9af6-37a6c1447ac2       scared  2021-04-18 05:13:58  \n",
       "4   34e8add9-0206-47fd-a501-037b994650a2      disgust  2021-01-06 19:13:01  \n",
       "5   9b6d35f9-5e15-4cd0-a8d7-b1f3340e02c4   interested  2020-08-23 12:25:58  \n",
       "6   7918d465-0953-4f20-9e28-539e74c82e2f      peeking  2020-12-07 06:27:54  \n",
       "7   fa3e42f0-71d8-455f-b024-e52d5c27a145      cherish  2021-04-11 17:35:49  \n",
       "8   b0c22f82-b882-4394-bf27-6dfadf26e5c2         hate  2021-01-27 08:32:09  \n",
       "9   1932a904-86ba-4438-bb52-b7e6516a4019      peeking  2021-04-01 22:54:23  \n",
       "11  f50ac030-3af8-4e07-aacf-dccff353b8f6  indifferent  2020-11-07 08:36:27  "
      ]
     },
     "execution_count": 60,
     "metadata": {},
     "output_type": "execute_result"
    }
   ],
   "source": [
    "import pandas as pd\n",
    "reactionsDf = pd.read_csv(r\"C:\\Users\\tejus\\Downloads\\Reactions.csv\")\n",
    "carsDf = pd.read_csv(r\"C:\\Users\\tejus\\Downloads\\cars.csv\", delimiter=';', header=0)\n",
    "#print(reactionsDf)\n",
    "#print(carsDf)\n",
    "#reactionsDf.info()          \n",
    "#carsDf.info()\n",
    "reactionsDf.head(10)        #reactionsDf contains Null values\n",
    "#carsDf.head(10)             #carsDf has no Null values\n",
    "reactionsDf = reactionsDf.dropna()        #removing all null rows\n",
    "reactionsDf.head(10)\n",
    "print(reactionsDf.columns)        #Getting name of first unnamed column\n",
    "reactionsDf = reactionsDf.rename(columns={'Unnamed: 0': 'ID'})  #Renaming unknown column to ID\n",
    "reactionsDf.head(10)"
   ]
  },
  {
   "cell_type": "markdown",
   "metadata": {},
   "source": [
    "Python String Methods\n",
    "1. Manipulate strings using various built-in methods.\n",
    "2. Perform operations like concatenation, slicing, finding substrings.\n",
    "3. Convert strings to uppercase, lowercase, and title case.\n",
    "4. Remove whitespace and split strings."
   ]
  },
  {
   "cell_type": "code",
   "execution_count": 90,
   "metadata": {},
   "outputs": [
    {
     "name": "stdout",
     "output_type": "stream",
     "text": [
      "34\n",
      "My name is Tejus. I code on R\n",
      "nohtyP no edoc I .sujeT si eman yM\n",
      "My name is Tejus. I code on Python. I do programming.\n",
      "Tejus\n",
      "Python\n",
      "MY NAME IS TEJUS. I CODE ON PYTHON\n",
      "my name is tejus. i code on python\n",
      "My Name Is Tejus. I Code On Python\n",
      "Hello! How are YOU DOing??\n",
      "['H', 'llo! How ar', ' YOU DOing??']\n",
      "['Hello! How are YOU DOing', '', '']\n"
     ]
    }
   ],
   "source": [
    "text = \"My name is Tejus. I code on Python\"\n",
    "\n",
    "length = len(text)          #Get length of string\n",
    "print(length)\n",
    "\n",
    "replaced_text = text.replace(\"Python\", \"R\")\n",
    "print(replaced_text)        #Replacing a word in sentence\n",
    "\n",
    "reversed_text = text[::-1]      #first index : last index : step\n",
    "print(reversed_text)\n",
    "\n",
    "str1 = \"I do programming.\"\n",
    "\n",
    "concatenated = text + \". \" + str1\n",
    "print(concatenated)    #concat two strings\n",
    "\n",
    "sliced = concatenated[11:16]         # Get \"Tejus\"\n",
    "print(sliced)\n",
    "\n",
    "#substrings\n",
    "index = concatenated.find(\"Python\")\n",
    "substring = concatenated[index:34]\n",
    "print(substring)\n",
    "\n",
    "\n",
    "uppercase = text.upper()            # Convert to uppercase\n",
    "print(uppercase)\n",
    "\n",
    "lowercase = text.lower()          # Convert to lowercase\n",
    "print(lowercase)\n",
    "\n",
    "title_case = text.title()         # Convert to title case\n",
    "print(title_case)\n",
    "\n",
    "string = \"   Hello! How are YOU DOing??   \"\n",
    "\n",
    "cleaned_string = string.strip()             #remove all whitespaces\n",
    "print(cleaned_string)\n",
    "\n",
    "# Split string into a list of words\n",
    "split_string = cleaned_string.split('e')\n",
    "split_string1 = cleaned_string.split('?')\n",
    "print(split_string)\n",
    "print(split_string1)\n"
   ]
  },
  {
   "cell_type": "markdown",
   "metadata": {},
   "source": [
    "NumPy\n",
    "1. Create different types of NumPy arrays (1D, 2D, 3D).\n",
    "2. Perform basic arithmetic operations on arrays.\n",
    "3. Use indexing and slicing to access elements.\n",
    "4. Explore array manipulation functions (reshape, transpose, concatenate).\n",
    "5. Create and use NumPy random number generators."
   ]
  },
  {
   "cell_type": "code",
   "execution_count": null,
   "metadata": {},
   "outputs": [
    {
     "name": "stdout",
     "output_type": "stream",
     "text": [
      "[1 2 3 4 5]\n",
      "[[1 2 3]\n",
      " [4 5 6]]\n",
      "[[[1 2]\n",
      "  [3 4]]\n",
      "\n",
      " [[5 6]\n",
      "  [7 8]]]\n",
      "1\n",
      "2\n",
      "3\n"
     ]
    }
   ],
   "source": [
    "import numpy as np\n",
    "\n",
    "# 1D array\n",
    "array_1d = np.array([1, 2, 3, 4, 5])\n",
    "print(array_1d)\n",
    "\n",
    "# 2D array\n",
    "array_2d = np.array([[1, 2, 3], [4, 5, 6]])\n",
    "print(array_2d)\n",
    "\n",
    "# 3D array\n",
    "array_3d = np.array([[[1, 2], [3, 4]], [[5, 6], [7, 8]]])\n",
    "print(array_3d)\n",
    "\n",
    "print(array_1d.ndim)        #verify dimension of array\n",
    "print(array_2d.ndim)\n",
    "print(array_3d.ndim)"
   ]
  },
  {
   "cell_type": "code",
   "execution_count": 101,
   "metadata": {},
   "outputs": [
    {
     "name": "stdout",
     "output_type": "stream",
     "text": [
      "[[ 33  59  72]\n",
      " [ 36  63  73]\n",
      " [ 55 121 137]\n",
      " [108 100  80]]\n",
      "\n",
      "\n",
      "[[-31 -55 -66]\n",
      " [-28 -51 -65]\n",
      " [ -9   7  -1]\n",
      " [ 44 -14 -58]]\n",
      "\n",
      "\n",
      "[[  32  114  207]\n",
      " [ 128  342  276]\n",
      " [ 736 3648 4692]\n",
      " [2432 2451  759]]\n",
      "\n",
      "\n",
      "[[32.         28.5        23.        ]\n",
      " [ 8.          9.5        17.25      ]\n",
      " [ 1.39130435  0.890625    1.01470588]\n",
      " [ 0.42105263  1.3255814   6.27272727]]\n"
     ]
    }
   ],
   "source": [
    "a = np.array([[1, 2, 3],[4,6,4],[23,64,68],[76,43,11]])\n",
    "b = np.array([32, 57, 69])\n",
    "\n",
    "# Addition\n",
    "sum = a + b\n",
    "print(sum)\n",
    "print('\\n')\n",
    "\n",
    "# Subtraction\n",
    "difference = a - b\n",
    "print(difference)\n",
    "print('\\n')\n",
    "\n",
    "# Multiplication\n",
    "product = a * b\n",
    "print(product)\n",
    "print('\\n')\n",
    "\n",
    "# Division\n",
    "division = b / a\n",
    "print(division)\n"
   ]
  },
  {
   "cell_type": "code",
   "execution_count": 104,
   "metadata": {},
   "outputs": [
    {
     "name": "stdout",
     "output_type": "stream",
     "text": [
      "[[ 1  2  3]\n",
      " [ 4  6  5]\n",
      " [23 64 68]\n",
      " [76 43 11]]\n",
      "Element at [1,2]: 5\n",
      "Sliced Subarray:\n",
      " [[2 3]\n",
      " [6 5]]\n"
     ]
    }
   ],
   "source": [
    "a = np.array([[1, 2, 3],[4,6,5],[23,64,68],[76,43,11]])\n",
    "\n",
    "print(a)\n",
    "# Access a specific element (row 1, column 2)\n",
    "element = a[1, 2]\n",
    "print(\"Element at [1,2]:\", element)\n",
    "\n",
    "# Slice a subarray\n",
    "subarray = a[0:2, 1:3]  # First two rows, last two columns\n",
    "print(\"Sliced Subarray:\\n\", subarray)\n"
   ]
  }
 ],
 "metadata": {
  "kernelspec": {
   "display_name": "Python 3",
   "language": "python",
   "name": "python3"
  },
  "language_info": {
   "codemirror_mode": {
    "name": "ipython",
    "version": 3
   },
   "file_extension": ".py",
   "mimetype": "text/x-python",
   "name": "python",
   "nbconvert_exporter": "python",
   "pygments_lexer": "ipython3",
   "version": "3.11.9"
  }
 },
 "nbformat": 4,
 "nbformat_minor": 2
}

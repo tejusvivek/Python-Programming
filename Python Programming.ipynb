{
 "cells": [
  {
   "cell_type": "markdown",
   "metadata": {},
   "source": [
    "Creating Python Functions\n",
    "1.Create functions with different numbers of parameters and return types.\n",
    "2.Explore function scope and variable accessibility.\n",
    "3.Implement functions with default argument values.\n",
    "4.Write recursive functions.\n",
    "5.Demonstrate how to use docstrings to document functions."
   ]
  },
  {
   "cell_type": "code",
   "execution_count": 5,
   "metadata": {},
   "outputs": [
    {
     "name": "stdout",
     "output_type": "stream",
     "text": [
      "61\n",
      "61\n",
      "173\n"
     ]
    }
   ],
   "source": [
    "'''1. Create functions with different numbers of parameters and return types.'''\n",
    "#Creating a multiply function that accepts 3 parameters as input\n",
    "def mutliply(a,b,c):\n",
    "    p=a+b+c\n",
    "    return p\n",
    "\n",
    "#Creating a sum function that accepts a variable number of inputs\n",
    "def sum(*args):\n",
    "    s=0\n",
    "    for number in args:\n",
    "        s+=number\n",
    "    return s\n",
    "\n",
    "a=4\n",
    "b=54\n",
    "c=3\n",
    "d=5\n",
    "e=54\n",
    "f=53\n",
    "\n",
    "print(mutliply(a,b,c))\n",
    "print(sum(a,b,c))\n",
    "print(sum(a,b,c,d,e,f))"
   ]
  },
  {
   "cell_type": "code",
   "execution_count": 6,
   "metadata": {},
   "outputs": [
    {
     "name": "stdout",
     "output_type": "stream",
     "text": [
      "10\n",
      "15\n",
      "None\n",
      "15\n",
      "localvar not accessible as it is a local variable to testFunction\n"
     ]
    }
   ],
   "source": [
    "'''2. Explore function scope and variable accessibility.'''\n",
    "def testFunction():\n",
    "    localvar = 5    #Defining local variable\n",
    "    global var      #Declaring global variable\n",
    "    var = 10\n",
    "    print(localvar+5)\n",
    "    print(var + 5)\n",
    "\n",
    "try:\n",
    "    print(testFunction())\n",
    "    print(var+5)\n",
    "    print(localvar+5)       #Will throw an exception since it is a local variable\n",
    "except:\n",
    "    print('localvar not accessible as it is a local variable to testFunction')"
   ]
  },
  {
   "cell_type": "code",
   "execution_count": 32,
   "metadata": {},
   "outputs": [
    {
     "name": "stdout",
     "output_type": "stream",
     "text": [
      "38\n"
     ]
    }
   ],
   "source": [
    "'''3. Implement functions with default argument values.'''\n",
    "def function(*args, a = 20):\n",
    "    s =0\n",
    "    for i in args:\n",
    "        s += i\n",
    "    s += a\n",
    "    return s\n",
    "\n",
    "a=3\n",
    "b=5\n",
    "c=10\n",
    "print(function(a,b,c))\n"
   ]
  },
  {
   "cell_type": "code",
   "execution_count": null,
   "metadata": {},
   "outputs": [
    {
     "name": "stdout",
     "output_type": "stream",
     "text": [
      "18\n"
     ]
    }
   ],
   "source": [
    "'''3. Implement functions with default argument values.'''\n",
    "def function(b,c, a = 20):\n",
    "    s =0\n",
    "    s += a+b+c\n",
    "    return s\n",
    "\n",
    "a=3\n",
    "b=5\n",
    "c=10\n",
    "print(function(a,b,c)) #Giving 3 values overrides the constant parameter in the function"
   ]
  },
  {
   "cell_type": "code",
   "execution_count": null,
   "metadata": {},
   "outputs": [
    {
     "name": "stdout",
     "output_type": "stream",
     "text": [
      "72\n"
     ]
    }
   ],
   "source": [
    "'''4. Write recursive functions.'''\n",
    "def apNterm(a,d,n):\n",
    "    if n == 1:\n",
    "        return a\n",
    "    else:\n",
    "        return(d+apNterm(a,d,n-1)) #Recursively calls the apNterm function with lower N value\n",
    "    \n",
    "print(apNterm(2,7,11))"
   ]
  }
 ],
 "metadata": {
  "kernelspec": {
   "display_name": "Python 3",
   "language": "python",
   "name": "python3"
  },
  "language_info": {
   "codemirror_mode": {
    "name": "ipython",
    "version": 3
   },
   "file_extension": ".py",
   "mimetype": "text/x-python",
   "name": "python",
   "nbconvert_exporter": "python",
   "pygments_lexer": "ipython3",
   "version": "3.11.9"
  }
 },
 "nbformat": 4,
 "nbformat_minor": 2
}
